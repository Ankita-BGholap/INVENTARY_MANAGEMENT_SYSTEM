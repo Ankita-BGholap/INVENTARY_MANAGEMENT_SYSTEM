{
 "cells": [
  {
   "cell_type": "code",
   "execution_count": 4,
   "metadata": {
    "id": "CfByq7uYzLbB"
   },
   "outputs": [],
   "source": [
    "\n",
    "import json\n",
    "import time\n",
    "fd = open('record.json', 'r')\n",
    "t = fd.read()\n",
    "fd.close()\n",
    "\n",
    "fd = open('record.json','w')\n",
    "fd.write(t)\n",
    "fd.close()\n",
    "\n",
    "sales = {}\n",
    "\n",
    "sales = json.dumps(sales)\n",
    "\n",
    "fd = open(\"sales.json\", 'w')\n",
    "fd.write(sales)\n",
    "fd.close()"
   ]
  },
  {
   "cell_type": "code",
   "execution_count": 9,
   "metadata": {
    "colab": {
     "base_uri": "https://localhost:8080/"
    },
    "id": "LCtrRR180ThH",
    "outputId": "a919e05d-5441-4005-ff35-7edaffd1dcd3"
   },
   "outputs": [
    {
     "name": "stdout",
     "output_type": "stream",
     "text": [
      "**********************************************\n",
      "1001 {'name': 'Choco Cake', 'qn': 33, 'pr': 100}\n",
      "1002 {'name': 'Milk Cake', 'pr': 800, 'qn': 98}\n",
      "1003 {'name': 'Drink', 'pr': 85, 'qn': 100}\n",
      "1004 {'name': 'Candy', 'pr': 5, 'qn': 1000}\n",
      "1005 {'name': 'Pen', 'pr': 20, 'qn': 100}\n",
      "1006 {'name': 'Phone', 'pr': 50000, 'qn': 10}\n",
      "1007 {'name': 'Mic', 'pr': 1500, 'qn': 0}\n",
      "1008 {'name': 'Case', 'pr': 599, 'qn': 4}\n",
      "1009 {'name': 'Keyboard', 'pr': 1999, 'qn': 10}\n",
      "1010 {'name': 'kurkure', 'pr': 30, 'qn': 2}\n",
      "1011 {'name': 'sprite', 'pr': 40, 'qn': 1}\n",
      "1014 {'name': 'kitkat', 'pr': 90, 'qn': 0}\n",
      "1012 {'name': 'book', 'pr': 700, 'qn': 7}\n",
      "1016 {'name': 'butter', 'pr': 80, 'qn': 5}\n",
      "******************************************\n",
      "\n",
      "Enter the product_Id: 1007\n",
      "Enter the quantity: 0\n",
      "Name: Mic\n",
      "Price: 1500\n",
      "Quantity: 0\n",
      "------------------------------\n",
      "Billing Amount: 0\n",
      "------------------------------\n",
      "Data Updated in Sales File!\n",
      "Data Updated in Inventory File!\n"
     ]
    }
   ],
   "source": [
    "# Loading Inventory and Converting it to Dictionary\n",
    "fd = open('record.json','r')\n",
    "t = fd.read()\n",
    "fd.close()\n",
    "dct = json.loads(t)\n",
    "\n",
    "# Loading Sales and Converting it to Dictionary\n",
    "fd = open(\"sales.json\", 'r')\n",
    "sl = fd.read()\n",
    "fd.close()\n",
    "sales = json.loads(sl)\n",
    "\n",
    "\n",
    "# Displaying Menu\n",
    "print(\"**********************************************\")\n",
    "for i in dct.keys():\n",
    "  print(i, dct[i])\n",
    "\n",
    "print(\"******************************************\\n\")\n",
    "\n",
    "# Taking Input from User to Enter what he/she wants to purchase\n",
    "ui_prod  = str(input(\"Enter the product_Id: \"))\n",
    "ui_quant = int(input(\"Enter the quantity: \"))\n",
    "\n",
    "\n",
    "if (ui_prod in dct.keys()):                                                     # Checking If product Exists or not\n",
    "    if (dct[ui_prod]['qn'] >= ui_quant):                                        # If I'm having enough Quantity\n",
    "      print(\"Name:\",dct[ui_prod]['name'])\n",
    "      print(\"Price:\",dct[ui_prod]['pr'])\n",
    "      print(\"Quantity:\", ui_quant)\n",
    "      print(\"------------------------------\")\n",
    "      print(\"Billing Amount:\", dct[ui_prod]['pr'] * ui_quant)\n",
    "\n",
    "      dct[ui_prod]['qn'] = dct[ui_prod]['qn'] - ui_quant                        # Updating Inventory\n",
    "\n",
    "      sales[str(len(sales)+1)] = {'prod_id' : ui_prod,                          # Updating Transection\n",
    "                                  \"time_pr\" :  time.ctime(), \n",
    "                                  'bill' : dct[ui_prod]['pr'] * ui_quant, \n",
    "                                  'qn' : ui_quant, \n",
    "                                  'pr' : dct[ui_prod]['pr'], \n",
    "                                  'pr_name' : dct[ui_prod]['name']}\n",
    "\n",
    "\n",
    "    else:                                                                       # If I'm not having enough Quantity\n",
    "      print(\"Sorry, We are not having that much of quantity.\")\n",
    "      print(\"We're only having\",dct[ui_prod]['qn'],\"quantity.\")\n",
    "      print(\"Would you like to purchase or not (Y/N)\")\n",
    "      ch = str(input(\"Y/N\"))\n",
    "\n",
    "      if (ch == \"Y\"):                                                           # If user wants to purchase the quantitry we're having\n",
    "        print(\"Name:\",dct[ui_prod]['name'])\n",
    "        print(\"Price:\",dct[ui_prod]['pr'])\n",
    "        print(\"Quantity:\", dct[ui_prod]['qn'])\n",
    "        print(\"------------------------------\")\n",
    "        print(\"Billing Amount:\", dct[ui_prod]['pr'] * dct[ui_prod]['qn'])\n",
    "\n",
    "        dct[ui_prod]['qn'] = 0                                                  # Updating Inventory\n",
    "\n",
    "        sales[str(len(sales)+1)] = {'prod_id' : ui_prod,                        # Updating Transection\n",
    "                                    \"time_pr\" :  time.ctime(), \n",
    "                                    'bill' : dct[ui_prod]['pr'] * dct[ui_prod]['qn'], \n",
    "                                    'qn' : dct[ui_prod]['qn'], \n",
    "                                    'pr' : dct[ui_prod]['pr'], \n",
    "                                    'pr_name' : dct[ui_prod]['name']}\n",
    "\n",
    "      else:                                                                     # If user press anything Except Y\n",
    "        print(\"Thankyou!\")\n",
    "\n",
    "else:                                                                           # Product ID Doesn't exists\n",
    "  print(\"------------------------------\")\n",
    "  print(\"Product doesn't exist!\")\n",
    "  print(\"Please enter a valid product id\")\n",
    "  print(\"------------------------------\")\n",
    "\n",
    "\n",
    "\n",
    "sl = json.dumps(sales)                                                          # Updating Sales File\n",
    "fd = open('sales.json','w')\n",
    "fd.write(sl)\n",
    "fd.close()\n",
    "\n",
    "print(\"------------------------------\")\n",
    "print(\"Data Updated in Sales File!\")\n",
    "\n",
    "js = json.dumps(dct)                                                            # Updating Inventory File\n",
    "fd = open('record.json','w')\n",
    "fd.write(js)\n",
    "fd.close()\n",
    "\n",
    "print(\"Data Updated in Inventory File!\")\n"
   ]
  },
  {
   "cell_type": "code",
   "execution_count": 10,
   "metadata": {
    "id": "md_JAIzA1DAB"
   },
   "outputs": [
    {
     "data": {
      "text/plain": [
       "{'1001': {'name': 'Choco Cake', 'qn': 33, 'pr': 100},\n",
       " '1002': {'name': 'Milk Cake', 'pr': 800, 'qn': 98},\n",
       " '1003': {'name': 'Drink', 'pr': 85, 'qn': 100},\n",
       " '1004': {'name': 'Candy', 'pr': 5, 'qn': 1000},\n",
       " '1005': {'name': 'Pen', 'pr': 20, 'qn': 100},\n",
       " '1006': {'name': 'Phone', 'pr': 50000, 'qn': 10},\n",
       " '1007': {'name': 'Mic', 'pr': 1500, 'qn': 0},\n",
       " '1008': {'name': 'Case', 'pr': 599, 'qn': 4},\n",
       " '1009': {'name': 'Keyboard', 'pr': 1999, 'qn': 10},\n",
       " '1010': {'name': 'kurkure', 'pr': 30, 'qn': 2},\n",
       " '1011': {'name': 'sprite', 'pr': 40, 'qn': 1},\n",
       " '1014': {'name': 'kitkat', 'pr': 90, 'qn': 0},\n",
       " '1012': {'name': 'book', 'pr': 700, 'qn': 7},\n",
       " '1016': {'name': 'butter', 'pr': 80, 'qn': 5}}"
      ]
     },
     "execution_count": 10,
     "metadata": {},
     "output_type": "execute_result"
    }
   ],
   "source": [
    "\n",
    "dct"
   ]
  },
  {
   "cell_type": "code",
   "execution_count": 11,
   "metadata": {
    "colab": {
     "base_uri": "https://localhost:8080/"
    },
    "id": "ybl-3EjE1IkZ",
    "outputId": "e113c280-df0d-4cdc-bed0-68e8f97bb7b3"
   },
   "outputs": [
    {
     "data": {
      "text/plain": [
       "{'1': {'prod_id': '1014',\n",
       "  'time_pr': 'Wed Sep  8 19:24:30 2021',\n",
       "  'bill': 630,\n",
       "  'qn': 7,\n",
       "  'pr': 90,\n",
       "  'pr_name': 'kitkat'},\n",
       " '2': {'prod_id': '1007',\n",
       "  'time_pr': 'Wed Sep  8 19:36:30 2021',\n",
       "  'bill': 0,\n",
       "  'qn': 0,\n",
       "  'pr': 1500,\n",
       "  'pr_name': 'Mic'}}"
      ]
     },
     "execution_count": 11,
     "metadata": {},
     "output_type": "execute_result"
    }
   ],
   "source": [
    "sales"
   ]
  },
  {
   "cell_type": "code",
   "execution_count": null,
   "metadata": {},
   "outputs": [],
   "source": []
  }
 ],
 "metadata": {
  "colab": {
   "name": "ex.ipynb",
   "provenance": []
  },
  "kernelspec": {
   "display_name": "Python 3",
   "language": "python",
   "name": "python3"
  },
  "language_info": {
   "codemirror_mode": {
    "name": "ipython",
    "version": 3
   },
   "file_extension": ".py",
   "mimetype": "text/x-python",
   "name": "python",
   "nbconvert_exporter": "python",
   "pygments_lexer": "ipython3",
   "version": "3.8.3"
  }
 },
 "nbformat": 4,
 "nbformat_minor": 1
}
